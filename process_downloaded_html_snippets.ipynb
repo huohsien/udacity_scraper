{
 "cells": [
  {
   "cell_type": "code",
   "execution_count": 1,
   "metadata": {},
   "outputs": [],
   "source": [
    "from bs4 import BeautifulSoup\n",
    "import re\n",
    "import pandas as pd\n",
    "import os"
   ]
  },
  {
   "cell_type": "markdown",
   "metadata": {},
   "source": [
    "Get the source code of the whole page for testing"
   ]
  },
  {
   "cell_type": "code",
   "execution_count": 2,
   "metadata": {},
   "outputs": [],
   "source": [
    "from selenium import webdriver\n",
    "from webdriver_manager.chrome import ChromeDriverManager\n",
    "from selenium.webdriver.chrome.options import Options\n",
    "from selenium.webdriver.support.ui import WebDriverWait\n",
    "\n",
    "from selenium.webdriver.support import expected_conditions as ec\n",
    "from selenium.webdriver.common.by import By\n"
   ]
  },
  {
   "cell_type": "code",
   "execution_count": 3,
   "metadata": {},
   "outputs": [],
   "source": [
    "root = 'https://classroom.udacity.com/nanodegrees/nd101/parts/5b7b3a4c-10eb-4293-b821-ec6f539524dc/modules/df028333-45b5-4805-9d48-cb54a5ee1274/lessons/f680ebe0-9aa6-4183-ae4a-0cd30d07706b/project'"
   ]
  },
  {
   "cell_type": "code",
   "execution_count": 4,
   "metadata": {},
   "outputs": [
    {
     "name": "stderr",
     "output_type": "stream",
     "text": [
      "[WDM] - Current google-chrome version is 85.0.4183\n",
      "[WDM] - Get LATEST driver version for 85.0.4183\n",
      "[WDM] - Driver [/Users/huohsien/.wdm/drivers/chromedriver/mac64/85.0.4183.87/chromedriver] found in cache\n"
     ]
    },
    {
     "name": "stdout",
     "output_type": "stream",
     "text": [
      " \n"
     ]
    }
   ],
   "source": [
    "#setup option for chrome profile\n",
    "chrome_options = Options()\n",
    "# chrome_options.add_argument(\"user-data-dir=/Users/huohsien/Library/Application Support/Google/Chrome/Default/\")\n",
    "\n",
    "#start web driver\n",
    "driver = webdriver.Chrome(ChromeDriverManager().install(), options=chrome_options)\n",
    "driver.implicitly_wait(60)\n",
    "wait = WebDriverWait(driver, 30)\n",
    "\n",
    "driver.get(root)"
   ]
  },
  {
   "cell_type": "code",
   "execution_count": 5,
   "metadata": {},
   "outputs": [],
   "source": [
    "def sync_get_element_by_xpath(xpath):\n",
    "    wait.until(ec.visibility_of_element_located((By.XPATH, xpath)))\n",
    "    return driver.find_element_by_xpath(xpath)"
   ]
  },
  {
   "cell_type": "code",
   "execution_count": 6,
   "metadata": {},
   "outputs": [],
   "source": [
    "def sign_in():\n",
    "    email = sync_get_element_by_xpath(\"//input[@data-testid='signin-email']\")\n",
    "    password = sync_get_element_by_xpath(\"//input[@data-testid='signin-password']\")\n",
    "\n",
    "    email.send_keys(\"huohsien@gmail.com\")\n",
    "    password.send_keys(\"jj1216\")\n",
    "\n",
    "    wait.until(ec.visibility_of_element_located((By.CLASS_NAME, \"button_primary__1qhjh.button__btn__2MHEg.form_primary-button__37eaW.button_standard__1p9sb\")))\n",
    "    sign_in_btn = driver.find_element_by_class_name(\"button_primary__1qhjh.button__btn__2MHEg.form_primary-button__37eaW.button_standard__1p9sb\") \n",
    "    sign_in_btn.click()"
   ]
  },
  {
   "cell_type": "code",
   "execution_count": 7,
   "metadata": {},
   "outputs": [],
   "source": [
    "sign_in()"
   ]
  },
  {
   "cell_type": "code",
   "execution_count": 8,
   "metadata": {},
   "outputs": [],
   "source": [
    "def save_page_html():\n",
    "\n",
    "    html = driver.page_source\n",
    "    \n",
    "    with open(file_name, 'w') as f:\n",
    "        f.write(html)\n",
    "#     print(\"html= \", html)\n",
    "file_name = 'page_content.html'\n",
    "save_page_html()"
   ]
  },
  {
   "cell_type": "code",
   "execution_count": 9,
   "metadata": {},
   "outputs": [],
   "source": [
    "page_html = driver.page_source"
   ]
  },
  {
   "cell_type": "code",
   "execution_count": 10,
   "metadata": {},
   "outputs": [],
   "source": [
    "page_soup = BeautifulSoup(page_html, 'html.parser')"
   ]
  },
  {
   "cell_type": "code",
   "execution_count": 11,
   "metadata": {},
   "outputs": [],
   "source": [
    "style_elms = page_soup.find('head').find_all('style')"
   ]
  },
  {
   "cell_type": "code",
   "execution_count": 12,
   "metadata": {},
   "outputs": [
    {
     "data": {
      "text/plain": [
       "0"
      ]
     },
     "execution_count": 12,
     "metadata": {},
     "output_type": "execute_result"
    }
   ],
   "source": [
    "len(style_elms)"
   ]
  },
  {
   "cell_type": "markdown",
   "metadata": {},
   "source": [
    "Start Post-processing the html file"
   ]
  },
  {
   "cell_type": "code",
   "execution_count": 13,
   "metadata": {},
   "outputs": [],
   "source": [
    "file = '/Volumes/Pegasus32 R6/Udacity Deep Learning Nanodegree - Course Scraped/dlnd_course_downloaded/6. Deploying a Model/PROJECT - Project: Deploying a Sentiment Analysis Model/3. Project: Deploying a Sentiment Analysis Model/content.html'"
   ]
  },
  {
   "cell_type": "code",
   "execution_count": 14,
   "metadata": {},
   "outputs": [],
   "source": [
    "def embed_tag(tag, html_str):\n",
    "    return '<{}>'.format(tag) + html_str + '</{}>'.format(tag)"
   ]
  },
  {
   "cell_type": "code",
   "execution_count": 15,
   "metadata": {},
   "outputs": [],
   "source": [
    "html_str = ''\n",
    "lines = []\n",
    "with open(file,'r') as fp:\n",
    "    lines = fp.readlines()\n",
    "html_str = ''.join(lines)"
   ]
  },
  {
   "cell_type": "code",
   "execution_count": 16,
   "metadata": {},
   "outputs": [],
   "source": [
    "soup = BeautifulSoup(html_str, 'html.parser')"
   ]
  },
  {
   "cell_type": "code",
   "execution_count": 17,
   "metadata": {},
   "outputs": [],
   "source": [
    "meta_elm = '<meta http-equiv=\"Content-type\" content=\"text/html; charset=utf-8\">'"
   ]
  },
  {
   "cell_type": "code",
   "execution_count": 18,
   "metadata": {},
   "outputs": [
    {
     "name": "stdout",
     "output_type": "stream",
     "text": [
      "head_str:  <head><meta http-equiv=\"Content-type\" content=\"text/html; charset=utf-8\"><link rel=\"stylesheet\" href=\"../../../css/0.63cd2.css\"><link rel=\"stylesheet\" href=\"../../../css/katex.min.css\"><link rel=\"stylesheet\" href=\"../../../css/app.7100f.css\"><link rel=\"stylesheet\" href=\"../../../css/13.9b4dc.css\"><link rel=\"stylesheet\" href=\"../../../css/1.99c19.css\"><link rel=\"stylesheet\" href=\"../../../css/2.a44a1.css\"><link rel=\"stylesheet\" href=\"../../../css/10.fe463.css\"><link rel=\"stylesheet\" href=\"../../../css/16.ca3a9.css\"><link rel=\"stylesheet\" href=\"../../../css/fonts.min.css\"></head>\n"
     ]
    }
   ],
   "source": [
    "def create_head_str():\n",
    "    css_folder_path = 'css'\n",
    "    css_filenames = [f for f in os.listdir(css_folder_path) if os.path.isfile(os.path.join(css_folder_path, f))]\n",
    "    head_str = '<head>' + meta_elm\n",
    "    for css_filename in css_filenames:\n",
    "        link_str = '<link rel=\"stylesheet\" href=\"../../../css/{}\">'.format(css_filename)\n",
    "        head_str = head_str + link_str\n",
    "    for style_elm in style_elms:\n",
    "        head_str = head_str + str(style_elm)\n",
    "    \n",
    "    head_str = head_str + '</head>'\n",
    "    print(\"head_str: \", head_str)\n",
    "    return head_str\n",
    "head_str = create_head_str()"
   ]
  },
  {
   "cell_type": "code",
   "execution_count": 19,
   "metadata": {},
   "outputs": [],
   "source": [
    "body_str = embed_tag('body', html_str)\n",
    "content_str = head_str + body_str\n",
    "html_str = embed_tag('html', content_str)"
   ]
  },
  {
   "cell_type": "code",
   "execution_count": 20,
   "metadata": {},
   "outputs": [],
   "source": [
    "# update modification done in html string\n",
    "soup = BeautifulSoup(html_str, 'html.parser')"
   ]
  },
  {
   "cell_type": "code",
   "execution_count": 21,
   "metadata": {},
   "outputs": [],
   "source": [
    "div_to_be_remove_class_name = '_main--notification-bar--2AVbT'"
   ]
  },
  {
   "cell_type": "code",
   "execution_count": 22,
   "metadata": {},
   "outputs": [],
   "source": [
    "div_to_be_removed_elms = soup.find_all('div',class_=div_to_be_remove_class_name)\n",
    "for div_to_be_removed in div_to_be_removed_elms:\n",
    "    div_to_be_removed.decompose()"
   ]
  },
  {
   "cell_type": "code",
   "execution_count": 23,
   "metadata": {},
   "outputs": [],
   "source": [
    "# print(soup.prettify())"
   ]
  },
  {
   "cell_type": "code",
   "execution_count": 24,
   "metadata": {},
   "outputs": [],
   "source": [
    "import requests\n",
    "import os\n",
    "from urllib.parse import urlparse\n",
    "\n",
    "images_folder = 'img'\n",
    "\n",
    "img_elms = soup.find_all('img')\n",
    "for img_elm in img_elms:\n",
    "    img_link = img_elm['src']\n",
    "    r = requests.get(img_link, allow_redirects=True)\n",
    "    a = urlparse(img_link)\n",
    "    file_name = os.path.basename(a.path)                \n",
    "    img_path = \"./\" + images_folder + \"/\" + file_name\n",
    "    \n",
    "    if not os.path.exists(images_folder):\n",
    "        os.makedirs(images_folder)\n",
    "    \n",
    "    open(img_path, 'wb').write(r.content)\n",
    "    print(\"file_name: \", file_name)\n",
    "    # replace src in img element\n",
    "    img_elm['src'] = \"./img/{}\".format(file_name)"
   ]
  },
  {
   "cell_type": "code",
   "execution_count": 25,
   "metadata": {},
   "outputs": [
    {
     "data": {
      "text/plain": [
       "'/Volumes/Pegasus32 R6/Udacity Deep Learning Nanodegree - Course Scraped/dlnd_course_downloaded/6. Deploying a Model/PROJECT - Project: Deploying a Sentiment Analysis Model/3. Project: Deploying a Sentiment Analysis Model/content_processed.html'"
      ]
     },
     "execution_count": 25,
     "metadata": {},
     "output_type": "execute_result"
    }
   ],
   "source": [
    "path, name = os.path.split(file)\n",
    "new_name = name[:-5] + '_processed.html'\n",
    "new_file = os.path.join(path, new_name)\n",
    "new_file"
   ]
  },
  {
   "cell_type": "code",
   "execution_count": 26,
   "metadata": {},
   "outputs": [],
   "source": [
    "with open(new_file, 'w', encoding='utf-8') as fp:\n",
    "    fp.write(soup.prettify())"
   ]
  }
 ],
 "metadata": {
  "kernelspec": {
   "display_name": "Python 3",
   "language": "python",
   "name": "python3"
  },
  "language_info": {
   "codemirror_mode": {
    "name": "ipython",
    "version": 3
   },
   "file_extension": ".py",
   "mimetype": "text/x-python",
   "name": "python",
   "nbconvert_exporter": "python",
   "pygments_lexer": "ipython3",
   "version": "3.7.1"
  }
 },
 "nbformat": 4,
 "nbformat_minor": 4
}
