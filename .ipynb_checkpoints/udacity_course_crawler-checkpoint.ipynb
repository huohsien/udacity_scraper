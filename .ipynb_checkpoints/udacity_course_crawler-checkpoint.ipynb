{
 "cells": [
  {
   "cell_type": "code",
   "execution_count": null,
   "metadata": {},
   "outputs": [],
   "source": [
    "import requests\n",
    "from lxml import html\n",
    "from urllib.request import urlopen, Request\n",
    "\n",
    "from selenium import webdriver\n",
    "from webdriver_manager.chrome import ChromeDriverManager\n",
    "\n",
    "from selenium.webdriver.common.by import By\n",
    "from selenium.webdriver.common.keys import Keys\n",
    "\n",
    "from selenium.webdriver.chrome.options import Options\n",
    "\n",
    "from selenium.webdriver.common.action_chains import ActionChains\n",
    "from selenium.webdriver.support.ui import WebDriverWait\n",
    "from selenium.webdriver.support import expected_conditions as ec\n",
    "\n",
    "from bs4 import BeautifulSoup\n",
    "import re\n",
    "import pandas as pd\n",
    "import os\n",
    "import time\n",
    "from datetime import datetime\n",
    "import threading\n",
    "from datetime import date\n",
    "from apscheduler.schedulers.background import BackgroundScheduler"
   ]
  },
  {
   "cell_type": "code",
   "execution_count": null,
   "metadata": {},
   "outputs": [],
   "source": [
    "entry_point = \"https://www.udacity.com\""
   ]
  },
  {
   "cell_type": "code",
   "execution_count": null,
   "metadata": {},
   "outputs": [],
   "source": [
    "logged_in = False\n",
    "\n",
    "#setup option for chrome profile\n",
    "chrome_options = Options()\n",
    "# chrome_options.add_argument(\"user-data-dir=/Users/huohsien/Library/Application Support/Google/Chrome/Default/\")\n",
    "\n",
    "#start web driver\n",
    "browser = webdriver.Chrome(ChromeDriverManager().install(), options=chrome_options)\n",
    "browser.implicitly_wait(5)\n",
    "\n",
    "browser.get(entry_point)\n",
    "\n",
    "wait = WebDriverWait(browser, 5)"
   ]
  },
  {
   "cell_type": "code",
   "execution_count": null,
   "metadata": {},
   "outputs": [],
   "source": [
    "#close pop up ads\n",
    "try:\n",
    "    cancel_button = wait.until(ec.visibility_of_element_located((By.XPATH, '//div[@class=\"modal-close dark\"]')))\n",
    "    ActionChains(browser).move_to_element(cancel_button).click().perform()\n",
    "except:\n",
    "  print(\"the ads popup does not show up\")\n",
    "\n"
   ]
  },
  {
   "cell_type": "code",
   "execution_count": null,
   "metadata": {},
   "outputs": [],
   "source": [
    "try:\n",
    "    link = browser.find_element_by_xpath(\"//a[@title='My Classroom']\")\n",
    "    print(\"link= \", link)\n",
    "    logged_in = True\n",
    "\n",
    "except:\n",
    "    logged_in = False\n",
    "    print(\"need to login\")\n",
    "\n",
    "if logged_in:\n",
    "    print(\"already logged in\")\n",
    "    browser.execute_script(\"arguments[0].click();\", link)"
   ]
  },
  {
   "cell_type": "code",
   "execution_count": null,
   "metadata": {},
   "outputs": [],
   "source": [
    "if not logged_in:\n",
    "#     time.sleep(0.5)\n",
    "    wait.until(ec.visibility_of_element_located((By.LINK_TEXT, 'Sign In')))\n",
    "    signin_link = browser.find_element_by_link_text('Sign In')\n",
    "    print(\"signin_link= \", signin_link)\n",
    "    signin_link.get_attribute('href')\n",
    "    signin_link.click()\n",
    "#     time.sleep(0.5)\n",
    "    # signin_button = wait.until(ec.visibility_of_element_located((By.XPATH, '//a[@title=\"Sign In\"]')))\n",
    "    # ActionChains(browser).move_to_element(signin_button).click().perform()\n",
    "\n",
    "    wait.until(ec.visibility_of_element_located((By.XPATH, \"//input[@data-testid='signin-email']\")))\n",
    "    email = browser.find_element_by_xpath(\"//input[@data-testid='signin-email']\")\n",
    "    wait.until(ec.visibility_of_element_located((By.XPATH, \"//input[@data-testid='signin-password']\")))\n",
    "    password = browser.find_element_by_xpath(\"//input[@data-testid='signin-password']\")\n",
    "\n",
    "    email.send_keys(\"huohsien@gmail.com\")\n",
    "    password.send_keys(\"jj1216\")\n",
    "\n",
    "    wait.until(ec.visibility_of_element_located((By.CLASS_NAME, \"button_primary__1qhjh.button__btn__2MHEg.form_primary-button__37eaW.button_standard__1p9sb\")))\n",
    "    sign_in_btn = browser.find_element_by_class_name(\"button_primary__1qhjh.button__btn__2MHEg.form_primary-button__37eaW.button_standard__1p9sb\") \n",
    "    print(\"sign_in_btn= \", sign_in_btn)\n",
    "    sign_in_btn.click()\n",
    "    print(\"sign_in_btn clicked\")\n"
   ]
  },
  {
   "cell_type": "code",
   "execution_count": null,
   "metadata": {},
   "outputs": [],
   "source": [
    "wait.until(ec.presence_of_element_located((By.XPATH, \"//a[@href='#nanodegrees']\")))\n",
    "\n",
    "print(\"href found\")\n",
    "button = browser.find_element_by_xpath(\"//a[@href='#nanodegrees']\") \n",
    "print(\"button= \", button)\n",
    "button.click()\n",
    "print(\"button clicked\")"
   ]
  },
  {
   "cell_type": "code",
   "execution_count": null,
   "metadata": {},
   "outputs": [],
   "source": [
    "elms = browser.find_elements_by_xpath(\"//*[button='Deep Learning']\")\n",
    "\n",
    "entry = None\n",
    "for elm in elms:\n",
    "    text = elm.text\n",
    "    if \"Graduated\" in text:\n",
    "        entry = elm\n",
    "\n",
    "button = entry.find_element_by_xpath(\"./div/div/button\")\n",
    "button.click()"
   ]
  },
  {
   "cell_type": "markdown",
   "metadata": {},
   "source": [
    "# Start to navigate the core curriculum"
   ]
  },
  {
   "cell_type": "code",
   "execution_count": null,
   "metadata": {},
   "outputs": [],
   "source": [
    "def check_complete(item)->bool:\n",
    "    e1 = item.find_element_by_xpath(\"./div/div\")\n",
    "    c = e1.get_attribute('class')\n",
    "    if c == 'index--lesson-card--mwX1V index--card--3DZMr shared--card--3X88h':\n",
    "        return True\n",
    "    else:\n",
    "        return False\n",
    "#     print(c)"
   ]
  },
  {
   "cell_type": "code",
   "execution_count": null,
   "metadata": {},
   "outputs": [],
   "source": [
    "topics = browser.find_elements_by_xpath(\"//*[@id='tree-core-curriculum']/*\")\n",
    "for topic in topics[:1]:\n",
    "    link = topic.find_element_by_xpath(\"./a\")\n",
    "    link.click()\n",
    "    print(\"wait\")\n",
    "    wait.until(ec.visibility_of_element_located((By.CLASS_NAME, \"nav.primary-and-secondary\")))\n",
    "    print(\"sub-topic page loaded\")\n",
    "    \n",
    "    sections = browser.find_elements_by_xpath(\"//div[@data-test='part-syllabus']/ol/li\")\n",
    "    \n",
    "    #click open the ones that were marked Complete\n",
    "    for section in sections:\n",
    "        if check_complete(section):\n",
    "            section.click()\n",
    "    sections = browser.find_elements_by_xpath(\"//div[@data-test='part-syllabus']/ol/li\")\n",
    "    \n",
    "    for section in sections:\n",
    "        print(\"section= \", section.text)\n",
    "        section.click()\n",
    "        wait.until(ec.visibility_of_element_located((By.CLASS_NAME, \"_main--content-container--ILkoI\")))\n",
    "        print(\"sub-topic content page loaded\")\n",
    "        list = browser.find_elements_by_xpath(\"//ol[@class='index--contents-list--33vHB']/li\")\n",
    "        for item in list:\n",
    "            item.click()\n",
    "            time.sleep(5)\n"
   ]
  },
  {
   "cell_type": "code",
   "execution_count": null,
   "metadata": {},
   "outputs": [],
   "source": [
    "# sections = browser.find_elements_by_xpath(\"//a[@class='index--curtain--3sKxm.shared--curtain--2_FSP']\")\n",
    "# print(sections)\n",
    "# for section in sections:\n",
    "#     print(section.text)\n",
    "#     print(\"-----\")\n"
   ]
  }
 ],
 "metadata": {
  "kernelspec": {
   "display_name": "Python 3",
   "language": "python",
   "name": "python3"
  },
  "language_info": {
   "codemirror_mode": {
    "name": "ipython",
    "version": 3
   },
   "file_extension": ".py",
   "mimetype": "text/x-python",
   "name": "python",
   "nbconvert_exporter": "python",
   "pygments_lexer": "ipython3",
   "version": "3.7.1"
  }
 },
 "nbformat": 4,
 "nbformat_minor": 4
}
