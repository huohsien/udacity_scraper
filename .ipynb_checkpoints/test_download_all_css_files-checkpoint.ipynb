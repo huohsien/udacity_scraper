{
 "cells": [
  {
   "cell_type": "code",
   "execution_count": 1,
   "metadata": {},
   "outputs": [],
   "source": [
    "from selenium import webdriver\n",
    "from webdriver_manager.chrome import ChromeDriverManager\n",
    "\n",
    "from selenium.webdriver.common.by import By\n",
    "from selenium.webdriver.common.keys import Keys\n",
    "\n",
    "from selenium.webdriver.chrome.options import Options\n",
    "\n",
    "from selenium.webdriver.common.action_chains import ActionChains\n",
    "from selenium.webdriver.support.ui import WebDriverWait\n",
    "from selenium.webdriver.support import expected_conditions as ec\n",
    "\n",
    "import time\n",
    "import os\n",
    "\n",
    "import re\n",
    "\n",
    "from bs4 import BeautifulSoup"
   ]
  },
  {
   "cell_type": "code",
   "execution_count": 2,
   "metadata": {},
   "outputs": [
    {
     "name": "stderr",
     "output_type": "stream",
     "text": [
      "[WDM] - Current google-chrome version is 85.0.4183\n",
      "[WDM] - Get LATEST driver version for 85.0.4183\n",
      "[WDM] - Driver [/Users/huohsien/.wdm/drivers/chromedriver/mac64/85.0.4183.87/chromedriver] found in cache\n"
     ]
    },
    {
     "name": "stdout",
     "output_type": "stream",
     "text": [
      " \n"
     ]
    }
   ],
   "source": [
    "#setup option for chrome profile\n",
    "chrome_options = Options()\n",
    "# chrome_options.add_argument(\"user-data-dir=/Users/huohsien/Library/Application Support/Google/Chrome/Default/\")\n",
    "\n",
    "#start web driver\n",
    "driver = webdriver.Chrome(ChromeDriverManager().install(), options=chrome_options)\n",
    "driver.implicitly_wait(60)\n",
    "\n",
    "wait = WebDriverWait(driver, 30)"
   ]
  },
  {
   "cell_type": "code",
   "execution_count": 3,
   "metadata": {},
   "outputs": [],
   "source": [
    "from selenium.common.exceptions import NoSuchElementException        \n",
    "def check_exists_by_xpath(xpath):\n",
    "    try:\n",
    "        driver.find_element_by_xpath(xpath)\n",
    "    except NoSuchElementException:\n",
    "        return False\n",
    "    return True\n",
    "\n",
    "def sync_get_element_by_xpath(xpath):\n",
    "    wait.until(ec.visibility_of_element_located((By.XPATH, xpath)))\n",
    "    return driver.find_element_by_xpath(xpath)\n",
    "\n",
    "def sync_get_elements_by_xpath(xpath):\n",
    "    wait.until(ec.visibility_of_element_located((By.XPATH, xpath)))\n",
    "    return driver.find_elements_by_xpath(xpath)"
   ]
  },
  {
   "cell_type": "code",
   "execution_count": 4,
   "metadata": {},
   "outputs": [],
   "source": [
    "def sign_in():\n",
    "    email = sync_get_element_by_xpath(\"//input[@data-testid='signin-email']\")\n",
    "    password = sync_get_element_by_xpath(\"//input[@data-testid='signin-password']\")\n",
    "\n",
    "    email.send_keys(\"huohsien@gmail.com\")\n",
    "    password.send_keys(\"jj1216\")\n",
    "\n",
    "    wait.until(ec.visibility_of_element_located((By.CLASS_NAME, \"button_primary__1qhjh.button__btn__2MHEg.form_primary-button__37eaW.button_standard__1p9sb\")))\n",
    "    sign_in_btn = driver.find_element_by_class_name(\"button_primary__1qhjh.button__btn__2MHEg.form_primary-button__37eaW.button_standard__1p9sb\") \n",
    "    sign_in_btn.click()\n"
   ]
  },
  {
   "cell_type": "code",
   "execution_count": 5,
   "metadata": {},
   "outputs": [],
   "source": [
    "base = 'https://classroom.udacity.com/nanodegrees/nd101/parts/94643112-2cab-46f8-a5be-1b6e4fa7a211/modules/89a1ec1d-4c22-4a77-b230-b0da99240c89/lessons/07f472eb-0210-446f-8ec2-d297b06c86d0/concepts/7d480208-0453-4457-97c3-56c720c23a89'"
   ]
  },
  {
   "cell_type": "code",
   "execution_count": 6,
   "metadata": {},
   "outputs": [],
   "source": [
    "driver.get(base)\n",
    "sign_in()\n",
    "time.sleep(5)"
   ]
  },
  {
   "cell_type": "code",
   "execution_count": 7,
   "metadata": {},
   "outputs": [],
   "source": [
    "html_src = driver.page_source\n",
    "# print(html_src)"
   ]
  },
  {
   "cell_type": "markdown",
   "metadata": {},
   "source": [
    "Use regex to find css stylesheet tags"
   ]
  },
  {
   "cell_type": "code",
   "execution_count": 8,
   "metadata": {},
   "outputs": [],
   "source": [
    "matches = re.findall(\"<link[^>]+?css.+?>\", html_src)"
   ]
  },
  {
   "cell_type": "code",
   "execution_count": 9,
   "metadata": {},
   "outputs": [],
   "source": [
    "# matches = re.findall(\"<style[^>]+css[^>]+>.+?</style>\", html_src, re.DOTALL)"
   ]
  },
  {
   "cell_type": "code",
   "execution_count": 10,
   "metadata": {},
   "outputs": [
    {
     "name": "stdout",
     "output_type": "stream",
     "text": [
      "1 :  <link rel=\"stylesheet\" href=\"/css/fonts.min.css\">\n",
      "2 :  <link rel=\"stylesheet\" href=\"https://cdnjs.cloudflare.com/ajax/libs/KaTeX/0.8.3/katex.min.css\" crossorigin=\"anonymous\">\n",
      "3 :  <link href=\"/css/13.9b4dc.css\" rel=\"stylesheet\">\n",
      "4 :  <link href=\"/css/app.7100f.css\" rel=\"stylesheet\">\n",
      "5 :  <link rel=\"stylesheet\" type=\"text/css\" href=\"/css/0.63cd2.css\">\n",
      "6 :  <link rel=\"stylesheet\" type=\"text/css\" href=\"/css/2.a44a1.css\">\n",
      "7 :  <link rel=\"stylesheet\" type=\"text/css\" href=\"/css/16.ca3a9.css\">\n",
      "8 :  <link rel=\"stylesheet\" type=\"text/css\" href=\"/css/1.99c19.css\">\n",
      "9 :  <link rel=\"stylesheet\" type=\"text/css\" href=\"/css/10.b8d63.css\">\n",
      "10 :  <link rel=\"stylesheet\" type=\"text/css\" href=\"/css/12.1e7dd.css\">\n"
     ]
    }
   ],
   "source": [
    "for idx, match in enumerate(matches):\n",
    "    print(idx+1, \": \", match)"
   ]
  },
  {
   "cell_type": "markdown",
   "metadata": {},
   "source": [
    "Get both inline css style definition and links to the css style sheet files"
   ]
  },
  {
   "cell_type": "code",
   "execution_count": 11,
   "metadata": {},
   "outputs": [],
   "source": [
    "soup = BeautifulSoup(driver.page_source)\n",
    "css_link_elms = soup.find_all('link', {'rel': 'stylesheet'})\n",
    "css_style_elms = soup.find_all('style', {'type':'text/css'})"
   ]
  },
  {
   "cell_type": "code",
   "execution_count": 12,
   "metadata": {},
   "outputs": [
    {
     "data": {
      "text/plain": [
       "10"
      ]
     },
     "execution_count": 12,
     "metadata": {},
     "output_type": "execute_result"
    }
   ],
   "source": [
    "len(css_link_elms)"
   ]
  },
  {
   "cell_type": "code",
   "execution_count": 13,
   "metadata": {},
   "outputs": [],
   "source": [
    "import requests\n",
    "import os\n",
    "import urllib\n",
    "from urllib.parse import urlparse"
   ]
  },
  {
   "cell_type": "code",
   "execution_count": 14,
   "metadata": {},
   "outputs": [
    {
     "name": "stdout",
     "output_type": "stream",
     "text": [
      "1 :  https://classroom.udacity.com/css/fonts.min.css\n",
      "2 :  https://cdnjs.cloudflare.com/ajax/libs/KaTeX/0.8.3/katex.min.css\n",
      "3 :  https://classroom.udacity.com/css/13.9b4dc.css\n",
      "4 :  https://classroom.udacity.com/css/app.7100f.css\n",
      "5 :  https://classroom.udacity.com/css/0.63cd2.css\n",
      "6 :  https://classroom.udacity.com/css/2.a44a1.css\n",
      "7 :  https://classroom.udacity.com/css/16.ca3a9.css\n",
      "8 :  https://classroom.udacity.com/css/1.99c19.css\n",
      "9 :  https://classroom.udacity.com/css/10.b8d63.css\n",
      "10 :  https://classroom.udacity.com/css/12.1e7dd.css\n"
     ]
    }
   ],
   "source": [
    "css_links = []\n",
    "for idx, css_link_elm in enumerate(css_link_elms, start = 1):\n",
    "    link = css_link_elm['href']\n",
    "    if link.startswith('/'):\n",
    "        link = urllib.parse.urljoin(base, link)\n",
    "    css_links.append(link)\n",
    "    print(idx, \": \", link)"
   ]
  },
  {
   "cell_type": "code",
   "execution_count": 15,
   "metadata": {},
   "outputs": [
    {
     "name": "stdout",
     "output_type": "stream",
     "text": [
      "file_name=  fonts.min.css\n",
      "file_name=  katex.min.css\n",
      "file_name=  13.9b4dc.css\n",
      "file_name=  app.7100f.css\n",
      "file_name=  0.63cd2.css\n",
      "file_name=  2.a44a1.css\n",
      "file_name=  16.ca3a9.css\n",
      "file_name=  1.99c19.css\n",
      "file_name=  10.b8d63.css\n",
      "file_name=  12.1e7dd.css\n"
     ]
    }
   ],
   "source": [
    "for css_link in css_links:\n",
    "    r = requests.get(css_link, allow_redirects=True)\n",
    "    a = urlparse(css_link)\n",
    "    file_name = os.path.basename(a.path)                \n",
    "    print(\"file_name= \", file_name) \n",
    "    open(file_name, 'wb').write(r.content)"
   ]
  }
 ],
 "metadata": {
  "kernelspec": {
   "display_name": "Python 3",
   "language": "python",
   "name": "python3"
  },
  "language_info": {
   "codemirror_mode": {
    "name": "ipython",
    "version": 3
   },
   "file_extension": ".py",
   "mimetype": "text/x-python",
   "name": "python",
   "nbconvert_exporter": "python",
   "pygments_lexer": "ipython3",
   "version": "3.7.1"
  }
 },
 "nbformat": 4,
 "nbformat_minor": 4
}
