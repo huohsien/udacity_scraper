{
 "cells": [
  {
   "cell_type": "code",
   "execution_count": null,
   "metadata": {},
   "outputs": [],
   "source": [
    "from bs4 import BeautifulSoup\n",
    "import re\n",
    "import pandas as pd\n",
    "import os"
   ]
  },
  {
   "cell_type": "code",
   "execution_count": null,
   "metadata": {},
   "outputs": [],
   "source": [
    "file = '/Users/huohsien/workspace/python/udacity_scraper/dlnd_course_downloaded/2. Neural Networks/LESSON 2 - Implementing Gradient Descent/2. Gradient Descent/content.html'"
   ]
  },
  {
   "cell_type": "code",
   "execution_count": null,
   "metadata": {},
   "outputs": [],
   "source": [
    "def embed_tag(tag, html_str):\n",
    "    return '<{}>'.format(tag) + html_str + '</{}>'.format(tag)"
   ]
  },
  {
   "cell_type": "code",
   "execution_count": null,
   "metadata": {},
   "outputs": [],
   "source": [
    "html_str = ''\n",
    "lines = []\n",
    "with open(file,'r') as fp:\n",
    "    lines = fp.readlines()\n",
    "html_str = ''.join(lines)"
   ]
  },
  {
   "cell_type": "code",
   "execution_count": null,
   "metadata": {},
   "outputs": [],
   "source": [
    "elm_1 = '<meta http-equiv=\"Content-type\" content=\"text/html; charset=utf-8\">'\n",
    "\n",
    "elm_2 = \"\"\"\n",
    "        <style class=\"vjs-styles-defaults\">\n",
    "              .video-js {\n",
    "                width: 300px;\n",
    "                height: 150px;\n",
    "              }\n",
    "\n",
    "              .vjs-fluid {\n",
    "                padding-top: 56.25%\n",
    "              }\n",
    "         </style>\n",
    " \"\"\"\n"
   ]
  },
  {
   "cell_type": "code",
   "execution_count": null,
   "metadata": {},
   "outputs": [],
   "source": [
    "def create_head_str():\n",
    "    css_folder_path = 'css'\n",
    "    css_filenames = [f for f in os.listdir(css_folder_path) if os.path.isfile(os.path.join(css_folder_path, f))]\n",
    "    head_str = '<head>' + elm_1 + elm_2\n",
    "    for css_filename in css_filenames:\n",
    "        link_str = '<link rel=\"stylesheet\" href=\"../../../css/{}\">'.format(css_filename)\n",
    "        head_str = head_str + link_str\n",
    "    \n",
    "    head_str = head_str + '</head>'\n",
    "#     print(\"head_str: \", head_str)\n",
    "    return head_str\n",
    "head_str = create_head_str()"
   ]
  },
  {
   "cell_type": "code",
   "execution_count": null,
   "metadata": {},
   "outputs": [],
   "source": [
    "body_str = embed_tag('body', html_str)\n",
    "content_str = head_str + body_str\n",
    "html_str = embed_tag('html', content_str)\n",
    "soup = BeautifulSoup(html_str, 'html.parser')"
   ]
  },
  {
   "cell_type": "code",
   "execution_count": null,
   "metadata": {},
   "outputs": [],
   "source": [
    "div_to_be_remove_class_name = '_main--notification-bar--2AVbT'"
   ]
  },
  {
   "cell_type": "code",
   "execution_count": null,
   "metadata": {},
   "outputs": [],
   "source": [
    "soup.find_all('div',class_=div_to_be_remove_class_name)[0].decompose()"
   ]
  },
  {
   "cell_type": "code",
   "execution_count": null,
   "metadata": {},
   "outputs": [],
   "source": [
    "# print(soup.prettify())"
   ]
  },
  {
   "cell_type": "code",
   "execution_count": null,
   "metadata": {},
   "outputs": [],
   "source": [
    "import requests\n",
    "import os\n",
    "from urllib.parse import urlparse\n",
    "\n",
    "images_folder = 'img'\n",
    "\n",
    "\n",
    "    \n",
    "img_elms = soup.find_all('img')\n",
    "for img_elm in img_elms:\n",
    "    img_link = img_elm['src']\n",
    "    r = requests.get(img_link, allow_redirects=True)\n",
    "    a = urlparse(img_link)\n",
    "    file_name = os.path.basename(a.path)                \n",
    "    img_path = \"./\" + images_folder + \"/\" + file_name\n",
    "    \n",
    "    if not os.path.exists(images_folder):\n",
    "        os.makedirs(images_folder)\n",
    "    \n",
    "    open(img_path, 'wb').write(r.content)\n",
    "    print(\"file_name: \", file_name)\n",
    "    # replace src in img element\n",
    "    img_elm['src'] = \"./img/{}\".format(file_name)"
   ]
  },
  {
   "cell_type": "code",
   "execution_count": null,
   "metadata": {},
   "outputs": [],
   "source": [
    "path, name = os.path.split(file)\n",
    "new_name = name[:-5] + '_processed.html'\n",
    "new_file = os.path.join(path, new_name)\n",
    "new_file"
   ]
  },
  {
   "cell_type": "code",
   "execution_count": null,
   "metadata": {},
   "outputs": [],
   "source": [
    "with open(new_file, 'w', encoding='utf-8') as fp:\n",
    "    fp.write(soup.prettify())"
   ]
  }
 ],
 "metadata": {
  "kernelspec": {
   "display_name": "Python 3",
   "language": "python",
   "name": "python3"
  },
  "language_info": {
   "codemirror_mode": {
    "name": "ipython",
    "version": 3
   },
   "file_extension": ".py",
   "mimetype": "text/x-python",
   "name": "python",
   "nbconvert_exporter": "python",
   "pygments_lexer": "ipython3",
   "version": "3.7.1"
  }
 },
 "nbformat": 4,
 "nbformat_minor": 4
}
