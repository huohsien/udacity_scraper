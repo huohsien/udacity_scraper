{
 "cells": [
  {
   "cell_type": "code",
   "execution_count": 1,
   "metadata": {},
   "outputs": [],
   "source": [
    "from selenium import webdriver\n",
    "from webdriver_manager.chrome import ChromeDriverManager\n",
    "\n",
    "from selenium.webdriver.common.by import By\n",
    "from selenium.webdriver.common.keys import Keys\n",
    "\n",
    "from selenium.webdriver.chrome.options import Options\n",
    "\n",
    "from selenium.webdriver.common.action_chains import ActionChains\n",
    "from selenium.webdriver.support.ui import WebDriverWait\n",
    "from selenium.webdriver.support import expected_conditions as ec\n",
    "\n",
    "import time"
   ]
  },
  {
   "cell_type": "code",
   "execution_count": 2,
   "metadata": {},
   "outputs": [],
   "source": [
    "from selenium.common.exceptions import NoSuchElementException        \n",
    "def check_exists_by_xpath(xpath):\n",
    "    try:\n",
    "        driver.find_element_by_xpath(xpath)\n",
    "    except NoSuchElementException:\n",
    "        return False\n",
    "    return True\n"
   ]
  },
  {
   "cell_type": "code",
   "execution_count": 3,
   "metadata": {},
   "outputs": [],
   "source": [
    "root_address = 'https://classroom.udacity.com/nanodegrees/nd101/dashboard/overview'\n",
    "# root_address = 'https://www.udacity.com'"
   ]
  },
  {
   "cell_type": "code",
   "execution_count": 4,
   "metadata": {},
   "outputs": [
    {
     "name": "stderr",
     "output_type": "stream",
     "text": [
      "[WDM] - Current google-chrome version is 83.0.4103\n",
      "[WDM] - Get LATEST driver version for 83.0.4103\n",
      "[WDM] - Driver [/Users/huohsien/.wdm/drivers/chromedriver/mac64/83.0.4103.39/chromedriver] found in cache\n"
     ]
    },
    {
     "name": "stdout",
     "output_type": "stream",
     "text": [
      " \n"
     ]
    }
   ],
   "source": [
    "#setup option for chrome profile\n",
    "chrome_options = Options()\n",
    "# chrome_options.add_argument(\"user-data-dir=/Users/huohsien/Library/Application Support/Google/Chrome/Default/\")\n",
    "\n",
    "#start web driver\n",
    "driver = webdriver.Chrome(ChromeDriverManager().install(), options=chrome_options)\n",
    "driver.implicitly_wait(60)\n",
    "\n",
    "driver.get(root_address)\n",
    "\n",
    "wait = WebDriverWait(driver, 30)"
   ]
  },
  {
   "cell_type": "code",
   "execution_count": 5,
   "metadata": {},
   "outputs": [
    {
     "data": {
      "text/plain": [
       "<selenium.webdriver.remote.webelement.WebElement (session=\"3560722e984ff34d4bb92f0c563218aa\", element=\"5fc77b39-0acc-40a9-bd3d-b32316b2bd54\")>"
      ]
     },
     "execution_count": 5,
     "metadata": {},
     "output_type": "execute_result"
    }
   ],
   "source": [
    "email = driver.find_element_by_xpath(\"//input[@data-testid='signin-email']\")\n",
    "email"
   ]
  },
  {
   "cell_type": "code",
   "execution_count": 6,
   "metadata": {},
   "outputs": [],
   "source": [
    "def sync_get_element_by_xpath(xpath):\n",
    "    wait.until(ec.visibility_of_element_located((By.XPATH, xpath)))\n",
    "    return driver.find_element_by_xpath(xpath)"
   ]
  },
  {
   "cell_type": "code",
   "execution_count": 7,
   "metadata": {},
   "outputs": [],
   "source": [
    "def sync_get_elements_by_xpath(xpath):\n",
    "    wait.until(ec.visibility_of_element_located((By.XPATH, xpath)))\n",
    "    return driver.find_elements_by_xpath(xpath)"
   ]
  },
  {
   "cell_type": "code",
   "execution_count": 8,
   "metadata": {},
   "outputs": [],
   "source": [
    "def sign_in():\n",
    "    email = sync_get_element_by_xpath(\"//input[@data-testid='signin-email']\")\n",
    "    password = sync_get_element_by_xpath(\"//input[@data-testid='signin-password']\")\n",
    "\n",
    "    email.send_keys(\"huohsien@gmail.com\")\n",
    "    password.send_keys(\"jj1216\")\n",
    "\n",
    "    wait.until(ec.visibility_of_element_located((By.CLASS_NAME, \"button_primary__1qhjh.button__btn__2MHEg.form_primary-button__37eaW.button_standard__1p9sb\")))\n",
    "    sign_in_btn = driver.find_element_by_class_name(\"button_primary__1qhjh.button__btn__2MHEg.form_primary-button__37eaW.button_standard__1p9sb\") \n",
    "    sign_in_btn.click()"
   ]
  },
  {
   "cell_type": "code",
   "execution_count": 9,
   "metadata": {},
   "outputs": [],
   "source": [
    "def check_lesson_complete(item)->bool:\n",
    "    e1 = item.find_element_by_xpath(\"./div/div\")\n",
    "    c = e1.get_attribute('class')\n",
    "    if c == 'index--lesson-card--mwX1V index--card--3DZMr shared--card--3X88h':\n",
    "        return True\n",
    "    else:\n",
    "        return False"
   ]
  },
  {
   "cell_type": "code",
   "execution_count": 10,
   "metadata": {},
   "outputs": [],
   "source": [
    "def expand_all_complete_lessons():\n",
    "    #click open the ones that were marked Complete\n",
    "    lessons = sync_get_elements_by_xpath(\"//div[@data-test='part-syllabus']/ol/li\")\n",
    "    for lesson in lessons:\n",
    "        if check_lesson_complete(lesson):\n",
    "            lesson.click()\n",
    "    element = driver.find_element_by_xpath(\"//*[h3='lesson 1']\")\n",
    "    driver.execute_script(\"return arguments[0].scrollIntoView(true);\", element)\n",
    "#     time.sleep(1)"
   ]
  },
  {
   "cell_type": "code",
   "execution_count": 11,
   "metadata": {},
   "outputs": [],
   "source": [
    "if check_exists_by_xpath(\"//div[div='Sign in to your account']\"):\n",
    "    sign_in()"
   ]
  },
  {
   "cell_type": "code",
   "execution_count": 12,
   "metadata": {},
   "outputs": [
    {
     "name": "stdout",
     "output_type": "stream",
     "text": [
      "Topic:  1. Introduction to Deep Learning\n",
      "LESSON 1 - Welcome to the Deep Learning Nanodegree Program\n",
      "1. Welcome to the Deep Learning Nanodegree Program\n",
      "content=  <selenium.webdriver.remote.webelement.WebElement (session=\"3560722e984ff34d4bb92f0c563218aa\", element=\"e0e1fc31-df21-4d9f-aa42-7699057e131d\")>\n",
      "iframe XXX =  widget2\n",
      "src=  https://www.youtube.com/embed/5U9tUZR3j9s?showinfo=0&rel=0&autohide=1&vq=hd720&hl=en-us&cc_load_policy=0&enablejsapi=1&origin=https%3A%2F%2Fclassroom.udacity.com&widgetid=1\n"
     ]
    }
   ],
   "source": [
    "# Get topic titles\n",
    "topic_elms = sync_get_elements_by_xpath(\"//*[@id='tree-core-curriculum']/*\")\n",
    "num_topics = len(topic_elms)\n",
    "\n",
    "for idx_topics in range(num_topics)[:1]:\n",
    "    # iterate each topic\n",
    "    #\n",
    "    print(\"Topic: \", ''.join(topic_elms[idx_topics].text.split('\\n')[0:2]))\n",
    "    link_topic = topic_elms[idx_topics].find_element_by_xpath(\"./a\")\n",
    "    link_topic.click()     # click into a topic\n",
    "    # In the lesson list page\n",
    "    #\n",
    "    expand_all_complete_lessons()\n",
    "    \n",
    "    #iterate each lesson\n",
    "    #\n",
    "    lesson_elms = sync_get_elements_by_xpath(\"//div[@data-test='part-syllabus']/ol/li\")\n",
    "    num_lessons = len(lesson_elms)\n",
    "    for idx_lesson in range(num_lessons)[:1]:\n",
    "        # iterate each lesson\n",
    "        #\n",
    "        lesson_elm = lesson_elms[idx_lesson]\n",
    "        print(' - '.join(lesson_elm.text.split('\\n')[1:3]))\n",
    "        link_lesson = lesson_elm.find_element_by_xpath(\"//*[span='View Lesson']\")\n",
    "        link_lesson.click()  # click into a lesson\n",
    "        \n",
    "        # In the content page of a lesson. loop through all parts in it\n",
    "        part_elms = sync_get_elements_by_xpath(\"//*[@id='tree-concepts']/ol/*\")\n",
    "        num_parts = len(part_elms)\n",
    "        for idx_part in range(num_parts)[:1]:\n",
    "            # iterate each part\n",
    "            part_elm = part_elms[idx_part]\n",
    "            print(part_elm.text)\n",
    "            link_part = part_elm.find_element_by_xpath(\"./a\")\n",
    "            link_part.click()     # click into a part\n",
    "            time.sleep(5)\n",
    "            content = sync_get_element_by_xpath(\"//div[@id='main-layout-content']\")\n",
    "            print(\"content= \", content)\n",
    "            try:\n",
    "                print(\"iframe XXX = \", content.find_element_by_xpath(\"//iframe\").get_attribute('id'))\n",
    "                iframe = content.find_element_by_xpath(\"//iframe\")\n",
    "                print(\"src= \", iframe.get_attribute('src'))\n",
    "            except NoSuchElementException:\n",
    "                print(\"no video in this part\")\n",
    "            \n",
    "            \n",
    "#             part_elms = sync_get_elements_by_xpath(\"//*[@id='tree-concepts']/ol/*\")\n",
    "            \n",
    "            \n",
    "#         driver.back()\n",
    "#         expand_all_complete_lessons()\n",
    "#         lesson_elms = sync_get_elements_by_xpath(\"//div[@data-test='part-syllabus']/ol/li\")\n",
    "\n",
    "#     driver.back()\n",
    "#     topic_elms = sync_get_elements_by_xpath(\"//*[@id='tree-core-curriculum']/*\")\n",
    "    "
   ]
  },
  {
   "cell_type": "code",
   "execution_count": 13,
   "metadata": {},
   "outputs": [],
   "source": [
    "# link_topic.click() "
   ]
  },
  {
   "cell_type": "code",
   "execution_count": 14,
   "metadata": {},
   "outputs": [],
   "source": [
    "# expand_all_complete_lessons()\n",
    "\n"
   ]
  },
  {
   "cell_type": "code",
   "execution_count": 15,
   "metadata": {},
   "outputs": [],
   "source": [
    "# element = driver.find_element_by_xpath(\"//*[h3='lesson 1']\")\n",
    "# driver.execute_script(\"return arguments[0].scrollIntoView(true);\", element)"
   ]
  }
 ],
 "metadata": {
  "kernelspec": {
   "display_name": "Python 3",
   "language": "python",
   "name": "python3"
  },
  "language_info": {
   "codemirror_mode": {
    "name": "ipython",
    "version": 3
   },
   "file_extension": ".py",
   "mimetype": "text/x-python",
   "name": "python",
   "nbconvert_exporter": "python",
   "pygments_lexer": "ipython3",
   "version": "3.7.1"
  }
 },
 "nbformat": 4,
 "nbformat_minor": 4
}
