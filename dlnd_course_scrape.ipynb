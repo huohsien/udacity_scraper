{
 "cells": [
  {
   "cell_type": "code",
   "execution_count": 1,
   "metadata": {},
   "outputs": [],
   "source": [
    "from selenium import webdriver\n",
    "from webdriver_manager.chrome import ChromeDriverManager\n",
    "\n",
    "from selenium.webdriver.common.by import By\n",
    "from selenium.webdriver.common.keys import Keys\n",
    "\n",
    "from selenium.webdriver.chrome.options import Options\n",
    "\n",
    "from selenium.webdriver.common.action_chains import ActionChains\n",
    "from selenium.webdriver.support.ui import WebDriverWait\n",
    "from selenium.webdriver.support import expected_conditions as ec\n",
    "\n",
    "import time"
   ]
  },
  {
   "cell_type": "code",
   "execution_count": 2,
   "metadata": {},
   "outputs": [],
   "source": [
    "import os"
   ]
  },
  {
   "cell_type": "code",
   "execution_count": 3,
   "metadata": {},
   "outputs": [],
   "source": [
    "from selenium.common.exceptions import NoSuchElementException        \n",
    "def check_exists_by_xpath(xpath):\n",
    "    try:\n",
    "        driver.find_element_by_xpath(xpath)\n",
    "    except NoSuchElementException:\n",
    "        return False\n",
    "    return True\n"
   ]
  },
  {
   "cell_type": "code",
   "execution_count": 4,
   "metadata": {},
   "outputs": [],
   "source": [
    "root_address = 'https://classroom.udacity.com/nanodegrees/nd101/dashboard/overview'\n",
    "# root_address = 'https://www.udacity.com'"
   ]
  },
  {
   "cell_type": "code",
   "execution_count": 5,
   "metadata": {},
   "outputs": [
    {
     "name": "stderr",
     "output_type": "stream",
     "text": [
      "[WDM] - Current google-chrome version is 83.0.4103\n",
      "[WDM] - Get LATEST driver version for 83.0.4103\n"
     ]
    },
    {
     "name": "stdout",
     "output_type": "stream",
     "text": [
      " \n"
     ]
    },
    {
     "name": "stderr",
     "output_type": "stream",
     "text": [
      "[WDM] - Driver [/Users/huohsien/.wdm/drivers/chromedriver/mac64/83.0.4103.39/chromedriver] found in cache\n"
     ]
    }
   ],
   "source": [
    "#setup option for chrome profile\n",
    "chrome_options = Options()\n",
    "# chrome_options.add_argument(\"user-data-dir=/Users/huohsien/Library/Application Support/Google/Chrome/Default/\")\n",
    "\n",
    "#start web driver\n",
    "driver = webdriver.Chrome(ChromeDriverManager().install(), options=chrome_options)\n",
    "driver.implicitly_wait(60)\n",
    "\n",
    "driver.get(root_address)\n",
    "\n",
    "wait = WebDriverWait(driver, 30)"
   ]
  },
  {
   "cell_type": "code",
   "execution_count": 6,
   "metadata": {},
   "outputs": [
    {
     "data": {
      "text/plain": [
       "<selenium.webdriver.remote.webelement.WebElement (session=\"bca557318a76f85873c860e48f16de48\", element=\"cca2eb32-fc9e-4e50-a086-ab3ac4c9a148\")>"
      ]
     },
     "execution_count": 6,
     "metadata": {},
     "output_type": "execute_result"
    }
   ],
   "source": [
    "email = driver.find_element_by_xpath(\"//input[@data-testid='signin-email']\")\n",
    "email"
   ]
  },
  {
   "cell_type": "code",
   "execution_count": 7,
   "metadata": {},
   "outputs": [],
   "source": [
    "def sync_get_element_by_xpath(xpath):\n",
    "    wait.until(ec.visibility_of_element_located((By.XPATH, xpath)))\n",
    "    return driver.find_element_by_xpath(xpath)"
   ]
  },
  {
   "cell_type": "code",
   "execution_count": 8,
   "metadata": {},
   "outputs": [],
   "source": [
    "def sync_get_elements_by_xpath(xpath):\n",
    "    wait.until(ec.visibility_of_element_located((By.XPATH, xpath)))\n",
    "    return driver.find_elements_by_xpath(xpath)"
   ]
  },
  {
   "cell_type": "code",
   "execution_count": 9,
   "metadata": {},
   "outputs": [],
   "source": [
    "def sign_in():\n",
    "    email = sync_get_element_by_xpath(\"//input[@data-testid='signin-email']\")\n",
    "    password = sync_get_element_by_xpath(\"//input[@data-testid='signin-password']\")\n",
    "\n",
    "    email.send_keys(\"huohsien@gmail.com\")\n",
    "    password.send_keys(\"jj1216\")\n",
    "\n",
    "    wait.until(ec.visibility_of_element_located((By.CLASS_NAME, \"button_primary__1qhjh.button__btn__2MHEg.form_primary-button__37eaW.button_standard__1p9sb\")))\n",
    "    sign_in_btn = driver.find_element_by_class_name(\"button_primary__1qhjh.button__btn__2MHEg.form_primary-button__37eaW.button_standard__1p9sb\") \n",
    "    sign_in_btn.click()"
   ]
  },
  {
   "cell_type": "code",
   "execution_count": 10,
   "metadata": {},
   "outputs": [],
   "source": [
    "def check_lesson_complete(item)->bool:\n",
    "    e1 = item.find_element_by_xpath(\"./div/div\")\n",
    "    c = e1.get_attribute('class')\n",
    "    if c == 'index--lesson-card--mwX1V index--card--3DZMr shared--card--3X88h':\n",
    "        return True\n",
    "    else:\n",
    "        return False"
   ]
  },
  {
   "cell_type": "code",
   "execution_count": 11,
   "metadata": {},
   "outputs": [],
   "source": [
    "def expand_all_complete_lessons():\n",
    "    #click open the ones that were marked Complete\n",
    "    lessons = sync_get_elements_by_xpath(\"//div[@data-test='part-syllabus']/ol/li\")\n",
    "    for lesson in lessons:\n",
    "        if check_lesson_complete(lesson):\n",
    "            lesson.click()\n",
    "    element = driver.find_element_by_xpath(\"//*[h3='lesson 1']\")\n",
    "    driver.execute_script(\"return arguments[0].scrollIntoView(true);\", element)\n",
    "#     time.sleep(1)"
   ]
  },
  {
   "cell_type": "code",
   "execution_count": 12,
   "metadata": {},
   "outputs": [],
   "source": [
    "if check_exists_by_xpath(\"//div[div='Sign in to your account']\"):\n",
    "    sign_in()"
   ]
  },
  {
   "cell_type": "code",
   "execution_count": 13,
   "metadata": {},
   "outputs": [],
   "source": [
    "root_folder = './dlnd_course_downloaded'"
   ]
  },
  {
   "cell_type": "code",
   "execution_count": 14,
   "metadata": {},
   "outputs": [],
   "source": [
    "os.makedirs(root_folder, exist_ok=True)"
   ]
  },
  {
   "cell_type": "code",
   "execution_count": 15,
   "metadata": {},
   "outputs": [
    {
     "name": "stdout",
     "output_type": "stream",
     "text": [
      "Topic:  1. Introduction to Deep Learning\n",
      "LESSON 1 - Welcome to the Deep Learning Nanodegree Program\n",
      "part_name=  1. Welcome to the Deep Learning Nanodegree Program\n",
      "part_name=  2. Meet Your Instructors\n",
      "part_name=  3. Program Structure\n",
      "part_name=  4. Community Guidelines\n",
      "part_name=  5. Prerequisites\n",
      "part_name=  6. Getting Set Up\n",
      "LESSON 2 - Nanodegree Career Services\n",
      "part_name=  1. Welcome to the Deep Learning Nanodegree Program\n",
      "part_name=  2. Meet Your Instructors\n",
      "part_name=  3. Program Structure\n",
      "part_name=  4. Community Guidelines\n",
      "part_name=  5. Prerequisites\n",
      "part_name=  6. Getting Set Up\n",
      "LESSON 3 - Knowledge, Community, and Careers\n",
      "part_name=  1. Welcome to the Deep Learning Nanodegree Program\n",
      "part_name=  2. Meet Your Instructors\n",
      "part_name=  3. Program Structure\n",
      "part_name=  4. Community Guidelines\n",
      "part_name=  5. Prerequisites\n",
      "part_name=  6. Getting Set Up\n",
      "LESSON 4 - Get Help with Your Account\n",
      "part_name=  1. Welcome to the Deep Learning Nanodegree Program\n",
      "part_name=  2. Meet Your Instructors\n",
      "part_name=  3. Program Structure\n",
      "part_name=  4. Community Guidelines\n",
      "part_name=  5. Prerequisites\n",
      "part_name=  6. Getting Set Up\n",
      "LESSON 5 - Anaconda\n",
      "part_name=  1. Welcome to the Deep Learning Nanodegree Program\n",
      "part_name=  2. Meet Your Instructors\n",
      "part_name=  3. Program Structure\n",
      "part_name=  4. Community Guidelines\n",
      "part_name=  5. Prerequisites\n",
      "part_name=  6. Getting Set Up\n",
      "LESSON 6 - Applying Deep Learning\n",
      "part_name=  1. Welcome to the Deep Learning Nanodegree Program\n",
      "part_name=  2. Meet Your Instructors\n",
      "part_name=  3. Program Structure\n",
      "part_name=  4. Community Guidelines\n",
      "part_name=  5. Prerequisites\n",
      "part_name=  6. Getting Set Up\n"
     ]
    },
    {
     "ename": "TimeoutException",
     "evalue": "Message: \n",
     "output_type": "error",
     "traceback": [
      "\u001b[0;31m---------------------------------------------------------------------------\u001b[0m",
      "\u001b[0;31mTimeoutException\u001b[0m                          Traceback (most recent call last)",
      "\u001b[0;32m<ipython-input-15-c0258fa8594f>\u001b[0m in \u001b[0;36m<module>\u001b[0;34m\u001b[0m\n\u001b[1;32m     61\u001b[0m         \u001b[0;32mfor\u001b[0m \u001b[0mi\u001b[0m \u001b[0;32min\u001b[0m \u001b[0mrange\u001b[0m\u001b[0;34m(\u001b[0m\u001b[0mnum_parts\u001b[0m\u001b[0;34m)\u001b[0m\u001b[0;34m:\u001b[0m\u001b[0;34m\u001b[0m\u001b[0;34m\u001b[0m\u001b[0m\n\u001b[1;32m     62\u001b[0m             \u001b[0mdriver\u001b[0m\u001b[0;34m.\u001b[0m\u001b[0mback\u001b[0m\u001b[0;34m(\u001b[0m\u001b[0;34m)\u001b[0m\u001b[0;34m\u001b[0m\u001b[0;34m\u001b[0m\u001b[0m\n\u001b[0;32m---> 63\u001b[0;31m         \u001b[0mexpand_all_complete_lessons\u001b[0m\u001b[0;34m(\u001b[0m\u001b[0;34m)\u001b[0m\u001b[0;34m\u001b[0m\u001b[0;34m\u001b[0m\u001b[0m\n\u001b[0m\u001b[1;32m     64\u001b[0m         \u001b[0mtime\u001b[0m\u001b[0;34m.\u001b[0m\u001b[0msleep\u001b[0m\u001b[0;34m(\u001b[0m\u001b[0;36m10\u001b[0m\u001b[0;34m)\u001b[0m\u001b[0;34m\u001b[0m\u001b[0;34m\u001b[0m\u001b[0m\n\u001b[1;32m     65\u001b[0m         \u001b[0mlesson_elms\u001b[0m \u001b[0;34m=\u001b[0m \u001b[0msync_get_elements_by_xpath\u001b[0m\u001b[0;34m(\u001b[0m\u001b[0;34m\"//div[@data-test='part-syllabus']/ol/li\"\u001b[0m\u001b[0;34m)\u001b[0m\u001b[0;34m\u001b[0m\u001b[0;34m\u001b[0m\u001b[0m\n",
      "\u001b[0;32m<ipython-input-11-14b48b8e1f8e>\u001b[0m in \u001b[0;36mexpand_all_complete_lessons\u001b[0;34m()\u001b[0m\n\u001b[1;32m      1\u001b[0m \u001b[0;32mdef\u001b[0m \u001b[0mexpand_all_complete_lessons\u001b[0m\u001b[0;34m(\u001b[0m\u001b[0;34m)\u001b[0m\u001b[0;34m:\u001b[0m\u001b[0;34m\u001b[0m\u001b[0;34m\u001b[0m\u001b[0m\n\u001b[1;32m      2\u001b[0m     \u001b[0;31m#click open the ones that were marked Complete\u001b[0m\u001b[0;34m\u001b[0m\u001b[0;34m\u001b[0m\u001b[0;34m\u001b[0m\u001b[0m\n\u001b[0;32m----> 3\u001b[0;31m     \u001b[0mlessons\u001b[0m \u001b[0;34m=\u001b[0m \u001b[0msync_get_elements_by_xpath\u001b[0m\u001b[0;34m(\u001b[0m\u001b[0;34m\"//div[@data-test='part-syllabus']/ol/li\"\u001b[0m\u001b[0;34m)\u001b[0m\u001b[0;34m\u001b[0m\u001b[0;34m\u001b[0m\u001b[0m\n\u001b[0m\u001b[1;32m      4\u001b[0m     \u001b[0;32mfor\u001b[0m \u001b[0mlesson\u001b[0m \u001b[0;32min\u001b[0m \u001b[0mlessons\u001b[0m\u001b[0;34m:\u001b[0m\u001b[0;34m\u001b[0m\u001b[0;34m\u001b[0m\u001b[0m\n\u001b[1;32m      5\u001b[0m         \u001b[0;32mif\u001b[0m \u001b[0mcheck_lesson_complete\u001b[0m\u001b[0;34m(\u001b[0m\u001b[0mlesson\u001b[0m\u001b[0;34m)\u001b[0m\u001b[0;34m:\u001b[0m\u001b[0;34m\u001b[0m\u001b[0;34m\u001b[0m\u001b[0m\n",
      "\u001b[0;32m<ipython-input-8-a1e136d6ca84>\u001b[0m in \u001b[0;36msync_get_elements_by_xpath\u001b[0;34m(xpath)\u001b[0m\n\u001b[1;32m      1\u001b[0m \u001b[0;32mdef\u001b[0m \u001b[0msync_get_elements_by_xpath\u001b[0m\u001b[0;34m(\u001b[0m\u001b[0mxpath\u001b[0m\u001b[0;34m)\u001b[0m\u001b[0;34m:\u001b[0m\u001b[0;34m\u001b[0m\u001b[0;34m\u001b[0m\u001b[0m\n\u001b[0;32m----> 2\u001b[0;31m     \u001b[0mwait\u001b[0m\u001b[0;34m.\u001b[0m\u001b[0muntil\u001b[0m\u001b[0;34m(\u001b[0m\u001b[0mec\u001b[0m\u001b[0;34m.\u001b[0m\u001b[0mvisibility_of_element_located\u001b[0m\u001b[0;34m(\u001b[0m\u001b[0;34m(\u001b[0m\u001b[0mBy\u001b[0m\u001b[0;34m.\u001b[0m\u001b[0mXPATH\u001b[0m\u001b[0;34m,\u001b[0m \u001b[0mxpath\u001b[0m\u001b[0;34m)\u001b[0m\u001b[0;34m)\u001b[0m\u001b[0;34m)\u001b[0m\u001b[0;34m\u001b[0m\u001b[0;34m\u001b[0m\u001b[0m\n\u001b[0m\u001b[1;32m      3\u001b[0m     \u001b[0;32mreturn\u001b[0m \u001b[0mdriver\u001b[0m\u001b[0;34m.\u001b[0m\u001b[0mfind_elements_by_xpath\u001b[0m\u001b[0;34m(\u001b[0m\u001b[0mxpath\u001b[0m\u001b[0;34m)\u001b[0m\u001b[0;34m\u001b[0m\u001b[0;34m\u001b[0m\u001b[0m\n",
      "\u001b[0;32m~/anaconda2/envs/web/lib/python3.7/site-packages/selenium/webdriver/support/wait.py\u001b[0m in \u001b[0;36muntil\u001b[0;34m(self, method, message)\u001b[0m\n\u001b[1;32m     78\u001b[0m             \u001b[0;32mif\u001b[0m \u001b[0mtime\u001b[0m\u001b[0;34m.\u001b[0m\u001b[0mtime\u001b[0m\u001b[0;34m(\u001b[0m\u001b[0;34m)\u001b[0m \u001b[0;34m>\u001b[0m \u001b[0mend_time\u001b[0m\u001b[0;34m:\u001b[0m\u001b[0;34m\u001b[0m\u001b[0;34m\u001b[0m\u001b[0m\n\u001b[1;32m     79\u001b[0m                 \u001b[0;32mbreak\u001b[0m\u001b[0;34m\u001b[0m\u001b[0;34m\u001b[0m\u001b[0m\n\u001b[0;32m---> 80\u001b[0;31m         \u001b[0;32mraise\u001b[0m \u001b[0mTimeoutException\u001b[0m\u001b[0;34m(\u001b[0m\u001b[0mmessage\u001b[0m\u001b[0;34m,\u001b[0m \u001b[0mscreen\u001b[0m\u001b[0;34m,\u001b[0m \u001b[0mstacktrace\u001b[0m\u001b[0;34m)\u001b[0m\u001b[0;34m\u001b[0m\u001b[0;34m\u001b[0m\u001b[0m\n\u001b[0m\u001b[1;32m     81\u001b[0m \u001b[0;34m\u001b[0m\u001b[0m\n\u001b[1;32m     82\u001b[0m     \u001b[0;32mdef\u001b[0m \u001b[0muntil_not\u001b[0m\u001b[0;34m(\u001b[0m\u001b[0mself\u001b[0m\u001b[0;34m,\u001b[0m \u001b[0mmethod\u001b[0m\u001b[0;34m,\u001b[0m \u001b[0mmessage\u001b[0m\u001b[0;34m=\u001b[0m\u001b[0;34m''\u001b[0m\u001b[0;34m)\u001b[0m\u001b[0;34m:\u001b[0m\u001b[0;34m\u001b[0m\u001b[0;34m\u001b[0m\u001b[0m\n",
      "\u001b[0;31mTimeoutException\u001b[0m: Message: \n"
     ]
    }
   ],
   "source": [
    "# Get topic titles\n",
    "topic_elms = sync_get_elements_by_xpath(\"//*[@id='tree-core-curriculum']/*\")\n",
    "num_topics = len(topic_elms)\n",
    "\n",
    "for idx_topics in range(num_topics):\n",
    "    # iterate each topic\n",
    "    #\n",
    "    topic_name = ''.join(topic_elms[idx_topics].text.split('\\n')[0:2])                   \n",
    "    os.makedirs(os.path.join(root_folder, topic_name), exist_ok=True)\n",
    "    print(\"Topic: \", topic_name)\n",
    "    link_topic = topic_elms[idx_topics].find_element_by_xpath(\"./a\")\n",
    "    link_topic.click()     # click into a topic\n",
    "    # In the lesson list page\n",
    "    #\n",
    "    expand_all_complete_lessons()\n",
    "    \n",
    "    #iterate each lesson\n",
    "    #\n",
    "    lesson_elms = sync_get_elements_by_xpath(\"//div[@data-test='part-syllabus']/ol/li\")\n",
    "    num_lessons = len(lesson_elms)\n",
    "    for idx_lesson in range(num_lessons):\n",
    "        # iterate each lesson\n",
    "        #\n",
    "        lesson_elm = lesson_elms[idx_lesson]\n",
    "        lesson_name = ' - '.join(lesson_elm.text.split('\\n')[1:3])                   \n",
    "        os.makedirs(os.path.join(root_folder, topic_name,lesson_name), exist_ok=True)\n",
    "        print(lesson_name)\n",
    "                \n",
    "        link_lesson = lesson_elm.find_element_by_xpath(\"//*[span='View Lesson']\")\n",
    "        link_lesson.click()  # click into a lesson\n",
    "        \n",
    "        # In the content page of a lesson. loop through all parts in it\n",
    "        part_elms = sync_get_elements_by_xpath(\"//*[@id='tree-concepts']/ol/*\")\n",
    "        num_parts = len(part_elms)\n",
    "        for idx_part in range(num_parts):\n",
    "            # iterate each part\n",
    "            part_elm = part_elms[idx_part]\n",
    "            part_name = part_elm.text\n",
    "            os.makedirs(os.path.join(root_folder, topic_name,lesson_name, part_name), exist_ok=True)\n",
    "            print(\"part_name= \", part_name)\n",
    "            file_name = os.path.join(root_folder, topic_name,lesson_name, part_name, \"content.html\")\n",
    "            link_part = part_elm.find_element_by_xpath(\"./a\")\n",
    "            link_part.click()     # click into a part\n",
    "            time.sleep(1)\n",
    "            main_layout_contents = sync_get_elements_by_xpath(\"//div[@id='main-layout-content']/..\")\n",
    "            assert len(main_layout_contents) == 1\n",
    "            \n",
    "            main_layout_content_inner_html = main_layout_contents[0].get_attribute('innerHTML')\n",
    "            with open(file_name, 'w') as f:\n",
    "                f.write(main_layout_content_inner_html)\n",
    "#             print(\"content= \", content)\n",
    "#             try:\n",
    "#                 print(\"iframe XXX = \", content.find_element_by_xpath(\"//iframe\").get_attribute('id'))\n",
    "#                 iframe = content.find_element_by_xpath(\"//iframe\")\n",
    "#                 print(\"src= \", iframe.get_attribute('src'))\n",
    "#             except NoSuchElementException:\n",
    "#                 print(\"no video in this part\")\n",
    "            \n",
    "            \n",
    "            part_elms = sync_get_elements_by_xpath(\"//*[@id='tree-concepts']/ol/*\")\n",
    "        for i in range(num_parts):\n",
    "            driver.back()\n",
    "        expand_all_complete_lessons()\n",
    "        time.sleep(1)\n",
    "        lesson_elms = sync_get_elements_by_xpath(\"//div[@data-test='part-syllabus']/ol/li\")\n",
    "\n",
    "    driver.back()\n",
    "    topic_elms = sync_get_elements_by_xpath(\"//*[@id='tree-core-curriculum']/*\")\n",
    "    "
   ]
  },
  {
   "cell_type": "code",
   "execution_count": null,
   "metadata": {},
   "outputs": [],
   "source": [
    "# link_topic.click() "
   ]
  },
  {
   "cell_type": "code",
   "execution_count": null,
   "metadata": {},
   "outputs": [],
   "source": [
    "# expand_all_complete_lessons()\n",
    "\n"
   ]
  },
  {
   "cell_type": "code",
   "execution_count": null,
   "metadata": {},
   "outputs": [],
   "source": [
    "# element = driver.find_element_by_xpath(\"//*[h3='lesson 1']\")\n",
    "# driver.execute_script(\"return arguments[0].scrollIntoView(true);\", element)"
   ]
  }
 ],
 "metadata": {
  "kernelspec": {
   "display_name": "Python 3",
   "language": "python",
   "name": "python3"
  },
  "language_info": {
   "codemirror_mode": {
    "name": "ipython",
    "version": 3
   },
   "file_extension": ".py",
   "mimetype": "text/x-python",
   "name": "python",
   "nbconvert_exporter": "python",
   "pygments_lexer": "ipython3",
   "version": "3.7.1"
  }
 },
 "nbformat": 4,
 "nbformat_minor": 4
}
