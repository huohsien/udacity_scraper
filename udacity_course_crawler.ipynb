{
 "cells": [
  {
   "cell_type": "code",
   "execution_count": 1,
   "metadata": {},
   "outputs": [],
   "source": [
    "import requests\n",
    "from lxml import html\n",
    "from urllib.request import urlopen, Request\n",
    "\n",
    "from selenium import webdriver\n",
    "from webdriver_manager.chrome import ChromeDriverManager\n",
    "\n",
    "from selenium.webdriver.common.by import By\n",
    "from selenium.webdriver.common.keys import Keys\n",
    "from selenium.webdriver.support.ui import WebDriverWait\n",
    "from selenium.webdriver.chrome.options import Options\n",
    "from selenium.webdriver.common.action_chains import ActionChains\n",
    "from selenium.webdriver.support import expected_conditions as ec\n",
    "\n",
    "from bs4 import BeautifulSoup\n",
    "import re\n",
    "import pandas as pd\n",
    "import os\n",
    "import time\n",
    "from datetime import datetime\n",
    "import threading\n",
    "from datetime import date\n",
    "from apscheduler.schedulers.background import BackgroundScheduler"
   ]
  },
  {
   "cell_type": "code",
   "execution_count": 2,
   "metadata": {},
   "outputs": [],
   "source": [
    "entry_point = \"https://www.udacity.com\""
   ]
  },
  {
   "cell_type": "code",
   "execution_count": 3,
   "metadata": {},
   "outputs": [
    {
     "name": "stderr",
     "output_type": "stream",
     "text": [
      "[WDM] - Current google-chrome version is 83.0.4103\n",
      "[WDM] - Get LATEST driver version for 83.0.4103\n",
      "[WDM] - Driver [/Users/huohsien/.wdm/drivers/chromedriver/mac64/83.0.4103.39/chromedriver] found in cache\n"
     ]
    },
    {
     "name": "stdout",
     "output_type": "stream",
     "text": [
      " \n",
      "the ads popup does not show up\n",
      "need to login\n",
      "signin_link=  <selenium.webdriver.remote.webelement.WebElement (session=\"9a0ddc0d424c6d45a6fb41687ba8e61b\", element=\"4602f790-5177-461b-9fdf-5c9837ca49b6\")>\n",
      "button=  <selenium.webdriver.remote.webelement.WebElement (session=\"9a0ddc0d424c6d45a6fb41687ba8e61b\", element=\"b9321b0d-c357-4fb0-ab2b-470f440a4c5a\")>\n",
      "button clicked\n"
     ]
    }
   ],
   "source": [
    "logged_in = False\n",
    "\n",
    "#setup option for chrome profile\n",
    "chrome_options = Options()\n",
    "chrome_options.add_argument(\"user-data-dir=/Users/huohsien/Library/Application Support/Google/Chrome/Default/\")\n",
    "\n",
    "#start web driver\n",
    "browser = webdriver.Chrome(ChromeDriverManager().install(), options=chrome_options)\n",
    "browser.implicitly_wait(3)\n",
    "browser.get(entry_point)\n",
    "\n",
    "#close pop up ads\n",
    "try:\n",
    "    wait = WebDriverWait(browser, 3)\n",
    "    cancel_button = wait.until(ec.visibility_of_element_located((By.XPATH, '//div[@class=\"modal-close dark\"]')))\n",
    "    ActionChains(browser).move_to_element(cancel_button).click().perform()\n",
    "except:\n",
    "  print(\"the ads popup does not show up\")\n",
    "\n",
    "try:\n",
    "    link = browser.find_element_by_xpath(\"//a[@title='My Classroom']\")\n",
    "    print(\"link= \", link)\n",
    "    logged_in = True\n",
    "except:\n",
    "    logged_in = False\n",
    "    print(\"need to login\")\n",
    "\n",
    "if not logged_in:\n",
    "    time.sleep(0.5)\n",
    "\n",
    "#     signin_link = browser.find_element_by_xpath('//a[@title=\"Sign In\"]')\n",
    "    signin_link = browser.find_element_by_link_text('Sign In')\n",
    "    print(\"signin_link= \", signin_link)\n",
    "    signin_link.get_attribute('href')\n",
    "    signin_link.click()\n",
    "    time.sleep(0.5)\n",
    "    # signin_button = wait.until(ec.visibility_of_element_located((By.XPATH, '//a[@title=\"Sign In\"]')))\n",
    "    # ActionChains(browser).move_to_element(signin_button).click().perform()\n",
    "\n",
    "    email = browser.find_element_by_xpath(\"//input[@data-testid='signin-email']\")\n",
    "    password = browser.find_element_by_xpath(\"//input[@data-testid='signin-password']\")\n",
    "\n",
    "    time.sleep(0.5)\n",
    "\n",
    "    email.send_keys(\"huohsien@gmail.com\")\n",
    "    password.send_keys(\"jj1216\")\n",
    "    time.sleep(0.5)\n",
    "\n",
    "    button = browser.find_element_by_class_name(\"button_primary__1qhjh.button__btn__2MHEg.form_primary-button__37eaW.button_standard__1p9sb\") \n",
    "    print(\"button= \", button)\n",
    "    button.click()\n",
    "    print(\"button clicked\")\n",
    "    # time.sleep(60)"
   ]
  },
  {
   "cell_type": "code",
   "execution_count": 4,
   "metadata": {},
   "outputs": [
    {
     "data": {
      "text/plain": [
       "<selenium.webdriver.remote.webelement.WebElement (session=\"9a0ddc0d424c6d45a6fb41687ba8e61b\", element=\"b9321b0d-c357-4fb0-ab2b-470f440a4c5a\")>"
      ]
     },
     "execution_count": 4,
     "metadata": {},
     "output_type": "execute_result"
    }
   ],
   "source": [
    "browser.find_element_by_class_name(\"button_primary__1qhjh.button__btn__2MHEg.form_primary-button__37eaW.button_standard__1p9sb\")"
   ]
  }
 ],
 "metadata": {
  "kernelspec": {
   "display_name": "Python 3",
   "language": "python",
   "name": "python3"
  },
  "language_info": {
   "codemirror_mode": {
    "name": "ipython",
    "version": 3
   },
   "file_extension": ".py",
   "mimetype": "text/x-python",
   "name": "python",
   "nbconvert_exporter": "python",
   "pygments_lexer": "ipython3",
   "version": "3.7.1"
  }
 },
 "nbformat": 4,
 "nbformat_minor": 4
}
