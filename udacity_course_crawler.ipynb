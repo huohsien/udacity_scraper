{
 "cells": [
  {
   "cell_type": "code",
   "execution_count": 1,
   "metadata": {},
   "outputs": [],
   "source": [
    "import requests\n",
    "from lxml import html\n",
    "from urllib.request import urlopen, Request\n",
    "\n",
    "from selenium import webdriver\n",
    "from webdriver_manager.chrome import ChromeDriverManager\n",
    "\n",
    "from selenium.webdriver.common.by import By\n",
    "from selenium.webdriver.common.keys import Keys\n",
    "\n",
    "from selenium.webdriver.chrome.options import Options\n",
    "\n",
    "from selenium.webdriver.common.action_chains import ActionChains\n",
    "from selenium.webdriver.support.ui import WebDriverWait\n",
    "from selenium.webdriver.support import expected_conditions as ec\n",
    "\n",
    "from bs4 import BeautifulSoup\n",
    "import re\n",
    "import pandas as pd\n",
    "import os\n",
    "import time\n",
    "from datetime import datetime\n",
    "import threading\n",
    "from datetime import date\n",
    "from apscheduler.schedulers.background import BackgroundScheduler"
   ]
  },
  {
   "cell_type": "code",
   "execution_count": 2,
   "metadata": {},
   "outputs": [],
   "source": [
    "entry_point = \"https://www.udacity.com\""
   ]
  },
  {
   "cell_type": "code",
   "execution_count": 3,
   "metadata": {},
   "outputs": [
    {
     "name": "stderr",
     "output_type": "stream",
     "text": [
      "[WDM] - Current google-chrome version is 83.0.4103\n",
      "[WDM] - Get LATEST driver version for 83.0.4103\n",
      "[WDM] - Driver [/Users/huohsien/.wdm/drivers/chromedriver/mac64/83.0.4103.39/chromedriver] found in cache\n"
     ]
    },
    {
     "name": "stdout",
     "output_type": "stream",
     "text": [
      " \n"
     ]
    }
   ],
   "source": [
    "logged_in = False\n",
    "\n",
    "#setup option for chrome profile\n",
    "chrome_options = Options()\n",
    "# chrome_options.add_argument(\"user-data-dir=/Users/huohsien/Library/Application Support/Google/Chrome/Default/\")\n",
    "\n",
    "#start web driver\n",
    "browser = webdriver.Chrome(ChromeDriverManager().install(), options=chrome_options)\n",
    "browser.implicitly_wait(5)\n",
    "\n",
    "browser.get(entry_point)\n",
    "\n",
    "wait = WebDriverWait(browser, 5)"
   ]
  },
  {
   "cell_type": "code",
   "execution_count": 4,
   "metadata": {},
   "outputs": [],
   "source": [
    "#close pop up ads\n",
    "try:\n",
    "    cancel_button = wait.until(ec.visibility_of_element_located((By.XPATH, '//div[@class=\"modal-close dark\"]')))\n",
    "    ActionChains(browser).move_to_element(cancel_button).click().perform()\n",
    "except:\n",
    "  print(\"the ads popup does not show up\")\n",
    "\n"
   ]
  },
  {
   "cell_type": "code",
   "execution_count": 5,
   "metadata": {},
   "outputs": [
    {
     "name": "stdout",
     "output_type": "stream",
     "text": [
      "need to login\n"
     ]
    }
   ],
   "source": [
    "try:\n",
    "    link = browser.find_element_by_xpath(\"//a[@title='My Classroom']\")\n",
    "    print(\"link= \", link)\n",
    "    logged_in = True\n",
    "\n",
    "except:\n",
    "    logged_in = False\n",
    "    print(\"need to login\")\n",
    "\n",
    "if logged_in:\n",
    "    print(\"already logged in\")\n",
    "    browser.execute_script(\"arguments[0].click();\", link)"
   ]
  },
  {
   "cell_type": "code",
   "execution_count": 6,
   "metadata": {},
   "outputs": [
    {
     "name": "stdout",
     "output_type": "stream",
     "text": [
      "signin_link=  <selenium.webdriver.remote.webelement.WebElement (session=\"2a3003b570eb2af2bdd63ba079e03870\", element=\"8f944575-c190-44d9-947f-c5766e7ea32e\")>\n",
      "sign_in_btn=  <selenium.webdriver.remote.webelement.WebElement (session=\"2a3003b570eb2af2bdd63ba079e03870\", element=\"63c76aa4-8999-46f0-bf5c-4c4800d5f756\")>\n",
      "sign_in_btn clicked\n"
     ]
    }
   ],
   "source": [
    "if not logged_in:\n",
    "#     time.sleep(0.5)\n",
    "    wait.until(ec.visibility_of_element_located((By.LINK_TEXT, 'Sign In')))\n",
    "    signin_link = browser.find_element_by_link_text('Sign In')\n",
    "    print(\"signin_link= \", signin_link)\n",
    "    signin_link.get_attribute('href')\n",
    "    signin_link.click()\n",
    "#     time.sleep(0.5)\n",
    "    # signin_button = wait.until(ec.visibility_of_element_located((By.XPATH, '//a[@title=\"Sign In\"]')))\n",
    "    # ActionChains(browser).move_to_element(signin_button).click().perform()\n",
    "\n",
    "    wait.until(ec.visibility_of_element_located((By.XPATH, \"//input[@data-testid='signin-email']\")))\n",
    "    email = browser.find_element_by_xpath(\"//input[@data-testid='signin-email']\")\n",
    "    wait.until(ec.visibility_of_element_located((By.XPATH, \"//input[@data-testid='signin-password']\")))\n",
    "    password = browser.find_element_by_xpath(\"//input[@data-testid='signin-password']\")\n",
    "\n",
    "    email.send_keys(\"huohsien@gmail.com\")\n",
    "    password.send_keys(\"jj1216\")\n",
    "\n",
    "    wait.until(ec.visibility_of_element_located((By.CLASS_NAME, \"button_primary__1qhjh.button__btn__2MHEg.form_primary-button__37eaW.button_standard__1p9sb\")))\n",
    "    sign_in_btn = browser.find_element_by_class_name(\"button_primary__1qhjh.button__btn__2MHEg.form_primary-button__37eaW.button_standard__1p9sb\") \n",
    "    print(\"sign_in_btn= \", sign_in_btn)\n",
    "    sign_in_btn.click()\n",
    "    print(\"sign_in_btn clicked\")\n"
   ]
  },
  {
   "cell_type": "code",
   "execution_count": 7,
   "metadata": {},
   "outputs": [
    {
     "name": "stdout",
     "output_type": "stream",
     "text": [
      "href found\n",
      "button=  <selenium.webdriver.remote.webelement.WebElement (session=\"2a3003b570eb2af2bdd63ba079e03870\", element=\"63635343-1119-49f1-93d6-9ec5e2aa9f0a\")>\n",
      "button clicked\n"
     ]
    }
   ],
   "source": [
    "wait.until(ec.presence_of_element_located((By.XPATH, \"//a[@href='#nanodegrees']\")))\n",
    "\n",
    "print(\"href found\")\n",
    "button = browser.find_element_by_xpath(\"//a[@href='#nanodegrees']\") \n",
    "print(\"button= \", button)\n",
    "button.click()\n",
    "print(\"button clicked\")"
   ]
  },
  {
   "cell_type": "code",
   "execution_count": 8,
   "metadata": {},
   "outputs": [],
   "source": [
    "# wait.until(ec.visibility_of_element_located((By.CLASS_NAME, \"vds-button.vds-button--secondary.vds-button__icon.vds-button__icon--right\")))\n",
    "\n",
    "# print(\"button found\")\n",
    "# buttons = browser.find_elements_by_class_name(\"vds-button.vds-button--secondary.vds-button__icon.vds-button__icon--right\")\n",
    "# print(\"buttons= \", buttons)\n",
    "# buttons[-1].click()\n",
    "# print(\"button clicked\")"
   ]
  },
  {
   "cell_type": "code",
   "execution_count": 9,
   "metadata": {},
   "outputs": [
    {
     "name": "stdout",
     "output_type": "stream",
     "text": [
      "button=  <selenium.webdriver.remote.webelement.WebElement (session=\"2a3003b570eb2af2bdd63ba079e03870\", element=\"8d8094cd-abea-483d-b9f6-0e0db8ad8028\")>\n"
     ]
    }
   ],
   "source": [
    "button = browser.find_element_by_xpath(\"//*[button='Deep Learning']/..//*[span='Program Home']/..\") \n",
    "print(\"button= \", button)\n",
    "button.click()"
   ]
  }
 ],
 "metadata": {
  "kernelspec": {
   "display_name": "Python 3",
   "language": "python",
   "name": "python3"
  },
  "language_info": {
   "codemirror_mode": {
    "name": "ipython",
    "version": 3
   },
   "file_extension": ".py",
   "mimetype": "text/x-python",
   "name": "python",
   "nbconvert_exporter": "python",
   "pygments_lexer": "ipython3",
   "version": "3.7.1"
  }
 },
 "nbformat": 4,
 "nbformat_minor": 4
}
