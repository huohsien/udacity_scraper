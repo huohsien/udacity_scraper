{
 "cells": [
  {
   "cell_type": "code",
   "execution_count": 1,
   "metadata": {},
   "outputs": [],
   "source": [
    "from selenium import webdriver\n",
    "from webdriver_manager.chrome import ChromeDriverManager\n",
    "\n",
    "from selenium.webdriver.common.by import By\n",
    "from selenium.webdriver.common.keys import Keys\n",
    "\n",
    "from selenium.webdriver.chrome.options import Options\n",
    "\n",
    "from selenium.webdriver.common.action_chains import ActionChains\n",
    "from selenium.webdriver.support.ui import WebDriverWait\n",
    "from selenium.webdriver.support import expected_conditions as ec\n",
    "\n",
    "import time\n",
    "import os\n",
    "\n",
    "import re\n",
    "\n",
    "from bs4 import BeautifulSoup"
   ]
  },
  {
   "cell_type": "code",
   "execution_count": 2,
   "metadata": {},
   "outputs": [
    {
     "name": "stderr",
     "output_type": "stream",
     "text": [
      "[WDM] - Current google-chrome version is 85.0.4183\n",
      "[WDM] - Get LATEST driver version for 85.0.4183\n",
      "[WDM] - Get LATEST driver version for 85.0.4183\n",
      "[WDM] - Trying to download new driver from http://chromedriver.storage.googleapis.com/85.0.4183.87/chromedriver_mac64.zip\n"
     ]
    },
    {
     "name": "stdout",
     "output_type": "stream",
     "text": [
      " \n"
     ]
    },
    {
     "name": "stderr",
     "output_type": "stream",
     "text": [
      "[WDM] - Driver has been saved in cache [/Users/huohsien/.wdm/drivers/chromedriver/mac64/85.0.4183.87]\n"
     ]
    }
   ],
   "source": [
    "#setup option for chrome profile\n",
    "chrome_options = Options()\n",
    "# chrome_options.add_argument(\"user-data-dir=/Users/huohsien/Library/Application Support/Google/Chrome/Default/\")\n",
    "\n",
    "#start web driver\n",
    "driver = webdriver.Chrome(ChromeDriverManager().install(), options=chrome_options)\n",
    "driver.implicitly_wait(60)\n",
    "\n",
    "wait = WebDriverWait(driver, 30)"
   ]
  },
  {
   "cell_type": "code",
   "execution_count": 3,
   "metadata": {},
   "outputs": [],
   "source": [
    "from selenium.common.exceptions import NoSuchElementException        \n",
    "def check_exists_by_xpath(xpath):\n",
    "    try:\n",
    "        driver.find_element_by_xpath(xpath)\n",
    "    except NoSuchElementException:\n",
    "        return False\n",
    "    return True\n",
    "\n",
    "def sync_get_element_by_xpath(xpath):\n",
    "    wait.until(ec.visibility_of_element_located((By.XPATH, xpath)))\n",
    "    return driver.find_element_by_xpath(xpath)\n",
    "\n",
    "def sync_get_elements_by_xpath(xpath):\n",
    "    wait.until(ec.visibility_of_element_located((By.XPATH, xpath)))\n",
    "    return driver.find_elements_by_xpath(xpath)"
   ]
  },
  {
   "cell_type": "code",
   "execution_count": 4,
   "metadata": {},
   "outputs": [],
   "source": [
    "def sign_in():\n",
    "    email = sync_get_element_by_xpath(\"//input[@data-testid='signin-email']\")\n",
    "    password = sync_get_element_by_xpath(\"//input[@data-testid='signin-password']\")\n",
    "\n",
    "    email.send_keys(\"huohsien@gmail.com\")\n",
    "    password.send_keys(\"jj1216\")\n",
    "\n",
    "    wait.until(ec.visibility_of_element_located((By.CLASS_NAME, \"button_primary__1qhjh.button__btn__2MHEg.form_primary-button__37eaW.button_standard__1p9sb\")))\n",
    "    sign_in_btn = driver.find_element_by_class_name(\"button_primary__1qhjh.button__btn__2MHEg.form_primary-button__37eaW.button_standard__1p9sb\") \n",
    "    sign_in_btn.click()\n"
   ]
  },
  {
   "cell_type": "code",
   "execution_count": 5,
   "metadata": {},
   "outputs": [],
   "source": [
    "base = 'https://classroom.udacity.com/nanodegrees/nd101/parts/94643112-2cab-46f8-a5be-1b6e4fa7a211/modules/afa2a1d2-faba-4f05-a5e3-2759e1336e91/lessons/00912248-2445-4713-ad9c-76b8536e1959/concepts/2098790c-e2ce-4c0e-9e39-326bf189b417'"
   ]
  },
  {
   "cell_type": "code",
   "execution_count": 6,
   "metadata": {},
   "outputs": [],
   "source": [
    "driver.get(base)\n",
    "sign_in()\n",
    "time.sleep(5)"
   ]
  },
  {
   "cell_type": "markdown",
   "metadata": {},
   "source": [
    "Get both inline css style definition and links to the css style sheet files"
   ]
  },
  {
   "cell_type": "code",
   "execution_count": 19,
   "metadata": {},
   "outputs": [
    {
     "name": "stdout",
     "output_type": "stream",
     "text": [
      "https://www.youtube.com/embed/-xxrisIvD0E?showinfo=0&rel=0&autohide=1&vq=hd720&hl=en-us&cc_load_policy=0&enablejsapi=1&origin=https%3A%2F%2Fclassroom.udacity.com&widgetid=5#index=2_1_19_1\n",
      "https://www.youtube.com/embed/njq6bYrPqSU?showinfo=0&rel=0&autohide=1&vq=hd720&hl=en-us&cc_load_policy=0&enablejsapi=1&origin=https%3A%2F%2Fclassroom.udacity.com&widgetid=7#index=2_1_19_2\n",
      "\n"
     ]
    }
   ],
   "source": [
    "soup = BeautifulSoup(driver.page_source)\n",
    "youtube_iframe_elms = soup.find_all('iframe', {'title': 'YouTube video player'})\n",
    "video_links = ''\n",
    "for idx, youtube_iframe_elm in enumerate(youtube_iframe_elms, start=1):\n",
    "    video_link = youtube_iframe_elm['src']\n",
    "    video_link = video_link + '#index=2_1_19_{}'.format(idx)\n",
    "    video_links = video_links + video_link + '\\n'\n",
    "#     print(idx, ' : ', video_link)\n",
    "print(video_links)\n",
    "with open('all_youtube_video_links.txt','a') as fp:\n",
    "    fp.writelines(video_links)"
   ]
  },
  {
   "cell_type": "code",
   "execution_count": null,
   "metadata": {},
   "outputs": [],
   "source": []
  }
 ],
 "metadata": {
  "kernelspec": {
   "display_name": "Python 3",
   "language": "python",
   "name": "python3"
  },
  "language_info": {
   "codemirror_mode": {
    "name": "ipython",
    "version": 3
   },
   "file_extension": ".py",
   "mimetype": "text/x-python",
   "name": "python",
   "nbconvert_exporter": "python",
   "pygments_lexer": "ipython3",
   "version": "3.7.1"
  }
 },
 "nbformat": 4,
 "nbformat_minor": 4
}
